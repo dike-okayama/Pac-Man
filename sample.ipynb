{
 "cells": [
  {
   "cell_type": "code",
   "execution_count": 3,
   "metadata": {},
   "outputs": [],
   "source": [
    "_board = eval('1,1,1,1,1,1,1,1,1,1,1,1,1,1,1,1,1,1,1,1,1,4,4,4,4,1,4,4,4,4,4,4,4,4,1,4,4,4,4,1,1,4,1,1,4,1,4,1,1,1,1,1,1,4,1,4,1,1,4,1,1,4,1,4,4,4,4,4,4,4,4,4,4,4,4,4,4,1,4,1,1,4,1,4,1,1,4,1,1,0,0,1,1,4,1,1,4,1,4,1,4,4,4,4,4,4,4,1,3,3,3,3,1,4,4,4,4,4,4,4,1,4,1,4,1,1,4,1,1,1,1,1,1,4,1,1,4,1,4,1,1,4,1,4,4,4,4,4,4,4,4,4,4,4,4,4,4,1,4,1,1,4,1,1,4,1,4,1,1,1,1,1,1,4,1,4,1,1,4,1,1,4,4,4,4,1,4,4,4,4,4,4,4,4,1,4,4,4,4,1,1,1,1,1,1,1,1,1,1,1,1,1,1,1,1,1,1,1,1,1')\n"
   ]
  },
  {
   "cell_type": "code",
   "execution_count": 11,
   "metadata": {},
   "outputs": [
    {
     "data": {
      "text/plain": [
       "[[1, 1, 1, 1, 1, 1, 1, 1, 1, 1, 1, 1, 1, 1, 1, 1, 1, 1, 1, 1],\n",
       " [1, 4, 4, 4, 4, 1, 4, 4, 4, 4, 4, 4, 4, 4, 1, 4, 4, 4, 4, 1],\n",
       " [1, 4, 1, 1, 4, 1, 4, 1, 1, 1, 1, 1, 1, 4, 1, 4, 1, 1, 4, 1],\n",
       " [1, 4, 1, 4, 4, 4, 4, 4, 4, 4, 4, 4, 4, 4, 4, 4, 4, 1, 4, 1],\n",
       " [1, 4, 1, 4, 1, 1, 4, 1, 1, 0, 0, 1, 1, 4, 1, 1, 4, 1, 4, 1],\n",
       " [4, 4, 4, 4, 4, 4, 4, 1, 3, 3, 3, 3, 1, 4, 4, 4, 4, 4, 4, 4],\n",
       " [1, 4, 1, 4, 1, 1, 4, 1, 1, 1, 1, 1, 1, 4, 1, 1, 4, 1, 4, 1],\n",
       " [1, 4, 1, 4, 4, 4, 4, 4, 4, 4, 4, 4, 4, 4, 4, 4, 4, 1, 4, 1],\n",
       " [1, 4, 1, 1, 4, 1, 4, 1, 1, 1, 1, 1, 1, 4, 1, 4, 1, 1, 4, 1],\n",
       " [1, 4, 4, 4, 4, 1, 4, 4, 4, 4, 4, 4, 4, 4, 1, 4, 4, 4, 4, 1],\n",
       " [1, 1, 1, 1, 1, 1, 1, 1, 1, 1, 1, 1, 1, 1, 1, 1, 1, 1, 1, 1]]"
      ]
     },
     "execution_count": 11,
     "metadata": {},
     "output_type": "execute_result"
    }
   ],
   "source": [
    "H = 11; W = 20\n",
    "\n",
    "t = {\n",
    "    0: 'Empty',\n",
    "    1: 'Wall',\n",
    "    2: 'PacMan',\n",
    "    3: 'Ghost',\n",
    "    4: 'Dot'\n",
    "}\n",
    "\n",
    "it = iter(_board)\n",
    "\n",
    "board = [[] for _ in range(H)]\n",
    "for i in range(H):\n",
    "    for j in range(W):\n",
    "        board[i].append(next(it))\n",
    "\n",
    "board\n"
   ]
  },
  {
   "cell_type": "code",
   "execution_count": 12,
   "metadata": {},
   "outputs": [],
   "source": [
    "for row in board:\n",
    "    for i in range(W):\n",
    "        row[i] = 'Cell.' + t[row[i]]\n",
    "    "
   ]
  },
  {
   "cell_type": "code",
   "execution_count": 13,
   "metadata": {},
   "outputs": [
    {
     "data": {
      "text/plain": [
       "'[[Cell.Wall, Cell.Wall, Cell.Wall, Cell.Wall, Cell.Wall, Cell.Wall, Cell.Wall, Cell.Wall, Cell.Wall, Cell.Wall, Cell.Wall, Cell.Wall, Cell.Wall, Cell.Wall, Cell.Wall, Cell.Wall, Cell.Wall, Cell.Wall, Cell.Wall, Cell.Wall], [Cell.Wall, Cell.Dot, Cell.Dot, Cell.Dot, Cell.Dot, Cell.Wall, Cell.Dot, Cell.Dot, Cell.Dot, Cell.Dot, Cell.Dot, Cell.Dot, Cell.Dot, Cell.Dot, Cell.Wall, Cell.Dot, Cell.Dot, Cell.Dot, Cell.Dot, Cell.Wall], [Cell.Wall, Cell.Dot, Cell.Wall, Cell.Wall, Cell.Dot, Cell.Wall, Cell.Dot, Cell.Wall, Cell.Wall, Cell.Wall, Cell.Wall, Cell.Wall, Cell.Wall, Cell.Dot, Cell.Wall, Cell.Dot, Cell.Wall, Cell.Wall, Cell.Dot, Cell.Wall], [Cell.Wall, Cell.Dot, Cell.Wall, Cell.Dot, Cell.Dot, Cell.Dot, Cell.Dot, Cell.Dot, Cell.Dot, Cell.Dot, Cell.Dot, Cell.Dot, Cell.Dot, Cell.Dot, Cell.Dot, Cell.Dot, Cell.Dot, Cell.Wall, Cell.Dot, Cell.Wall], [Cell.Wall, Cell.Dot, Cell.Wall, Cell.Dot, Cell.Wall, Cell.Wall, Cell.Dot, Cell.Wall, Cell.Wall, Cell.Empty, Cell.Empty, Cell.Wall, Cell.Wall, Cell.Dot, Cell.Wall, Cell.Wall, Cell.Dot, Cell.Wall, Cell.Dot, Cell.Wall], [Cell.Dot, Cell.Dot, Cell.Dot, Cell.Dot, Cell.Dot, Cell.Dot, Cell.Dot, Cell.Wall, Cell.Ghost, Cell.Ghost, Cell.Ghost, Cell.Ghost, Cell.Wall, Cell.Dot, Cell.Dot, Cell.Dot, Cell.Dot, Cell.Dot, Cell.Dot, Cell.Dot], [Cell.Wall, Cell.Dot, Cell.Wall, Cell.Dot, Cell.Wall, Cell.Wall, Cell.Dot, Cell.Wall, Cell.Wall, Cell.Wall, Cell.Wall, Cell.Wall, Cell.Wall, Cell.Dot, Cell.Wall, Cell.Wall, Cell.Dot, Cell.Wall, Cell.Dot, Cell.Wall], [Cell.Wall, Cell.Dot, Cell.Wall, Cell.Dot, Cell.Dot, Cell.Dot, Cell.Dot, Cell.Dot, Cell.Dot, Cell.Dot, Cell.Dot, Cell.Dot, Cell.Dot, Cell.Dot, Cell.Dot, Cell.Dot, Cell.Dot, Cell.Wall, Cell.Dot, Cell.Wall], [Cell.Wall, Cell.Dot, Cell.Wall, Cell.Wall, Cell.Dot, Cell.Wall, Cell.Dot, Cell.Wall, Cell.Wall, Cell.Wall, Cell.Wall, Cell.Wall, Cell.Wall, Cell.Dot, Cell.Wall, Cell.Dot, Cell.Wall, Cell.Wall, Cell.Dot, Cell.Wall], [Cell.Wall, Cell.Dot, Cell.Dot, Cell.Dot, Cell.Dot, Cell.Wall, Cell.Dot, Cell.Dot, Cell.Dot, Cell.Dot, Cell.Dot, Cell.Dot, Cell.Dot, Cell.Dot, Cell.Wall, Cell.Dot, Cell.Dot, Cell.Dot, Cell.Dot, Cell.Wall], [Cell.Wall, Cell.Wall, Cell.Wall, Cell.Wall, Cell.Wall, Cell.Wall, Cell.Wall, Cell.Wall, Cell.Wall, Cell.Wall, Cell.Wall, Cell.Wall, Cell.Wall, Cell.Wall, Cell.Wall, Cell.Wall, Cell.Wall, Cell.Wall, Cell.Wall, Cell.Wall]]'"
      ]
     },
     "execution_count": 13,
     "metadata": {},
     "output_type": "execute_result"
    }
   ],
   "source": [
    "repr(board).replace(\"'\", '')"
   ]
  }
 ],
 "metadata": {
  "kernelspec": {
   "display_name": "Python 3",
   "language": "python",
   "name": "python3"
  },
  "language_info": {
   "codemirror_mode": {
    "name": "ipython",
    "version": 3
   },
   "file_extension": ".py",
   "mimetype": "text/x-python",
   "name": "python",
   "nbconvert_exporter": "python",
   "pygments_lexer": "ipython3",
   "version": "3.10.10"
  },
  "orig_nbformat": 4
 },
 "nbformat": 4,
 "nbformat_minor": 2
}
